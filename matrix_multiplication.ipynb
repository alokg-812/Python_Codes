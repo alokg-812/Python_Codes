{
 "cells": [
  {
   "cell_type": "code",
   "execution_count": 14,
   "id": "4ae32ebd-43ab-4d82-8d40-65a7bdd660a8",
   "metadata": {
    "tags": []
   },
   "outputs": [
    {
     "name": "stdout",
     "output_type": "stream",
     "text": [
      "55\n",
      "56\n",
      "1\n",
      "28\n",
      "127\n",
      "136\n",
      "-3\n",
      "72\n",
      "199\n",
      "216\n",
      "-7\n",
      "116\n",
      "271\n",
      "296\n",
      "-11\n",
      "160\n"
     ]
    }
   ],
   "source": [
    "A = [[1,2,3,4],[5,6,7,8],[9,10,11,12],[13,14,15,16]]\n",
    "B = [[0,3,-3,5],[5,7,2,-2],[7,1,0,5,11],[6,9,0,3]]\n",
    "c = [[0,0,0,0],[0,0,0,0],[0,0,0,0],[0,0,0,0]]\n",
    "#n = int(input(\"Enter the value of n:\"))\n",
    "for i in range(4):\n",
    "    for j in range(4):\n",
    "        for p in range(4):\n",
    "            c[i][j] =  c[i][j] + A[i][p] * B[p][j]\n",
    "        print(c[i][j])"
   ]
  },
  {
   "cell_type": "code",
   "execution_count": null,
   "id": "2b237edd-bd90-4fee-93bd-bae227876a3d",
   "metadata": {},
   "outputs": [],
   "source": []
  }
 ],
 "metadata": {
  "kernelspec": {
   "display_name": "Python 3 (ipykernel)",
   "language": "python",
   "name": "python3"
  },
  "language_info": {
   "codemirror_mode": {
    "name": "ipython",
    "version": 3
   },
   "file_extension": ".py",
   "mimetype": "text/x-python",
   "name": "python",
   "nbconvert_exporter": "python",
   "pygments_lexer": "ipython3",
   "version": "3.11.5"
  }
 },
 "nbformat": 4,
 "nbformat_minor": 5
}
